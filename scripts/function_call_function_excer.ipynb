{
 "cells": [
  {
   "cell_type": "code",
   "execution_count": 12,
   "metadata": {},
   "outputs": [],
   "source": [
    "def add1(num):\n",
    "    \"\"\"\n",
    "    add 1 to num\n",
    "    \"\"\"\n",
    "    return num + 1\n",
    "\n",
    "\n",
    "def add2(num):\n",
    "    \"\"\"\n",
    "    add 2 to num\n",
    "    \"\"\"\n",
    "    return num + 2\n",
    "\n",
    "\n",
    "def sum(func1, func2):\n",
    "    \"\"\"\n",
    "    sum func1 and func2\n",
    "    \"\"\"\n",
    "    return func1 + func2\n",
    "\n"
   ]
  },
  {
   "cell_type": "code",
   "execution_count": 13,
   "metadata": {},
   "outputs": [
    {
     "name": "stdout",
     "output_type": "stream",
     "text": [
      "2\n",
      "5\n",
      "4\n",
      "9\n",
      "6\n",
      "13\n",
      "8\n",
      "17\n",
      "10\n",
      "21\n"
     ]
    }
   ],
   "source": [
    "for n in range(10):\n",
    "    if n % 2 == 1:\n",
    "        print(sum(add1(n),add2(n)))\n",
    "    else:\n",
    "        print(add2(n))\n"
   ]
  },
  {
   "cell_type": "code",
   "execution_count": null,
   "metadata": {},
   "outputs": [],
   "source": []
  },
  {
   "cell_type": "code",
   "execution_count": null,
   "metadata": {},
   "outputs": [],
   "source": []
  }
 ],
 "metadata": {
  "interpreter": {
   "hash": "fed1728fc68d8a3ad5ae9fab97f55aed09f4d9d45789cb381a4ecc196681c59b"
  },
  "kernelspec": {
   "display_name": "Python 3.9.7 64-bit ('pyrespj': conda)",
   "language": "python",
   "name": "python3"
  },
  "language_info": {
   "codemirror_mode": {
    "name": "ipython",
    "version": 3
   },
   "file_extension": ".py",
   "mimetype": "text/x-python",
   "name": "python",
   "nbconvert_exporter": "python",
   "pygments_lexer": "ipython3",
   "version": "3.9.7"
  },
  "orig_nbformat": 4
 },
 "nbformat": 4,
 "nbformat_minor": 2
}
